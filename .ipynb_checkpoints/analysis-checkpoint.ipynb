{
 "cells": [
  {
   "cell_type": "markdown",
   "id": "4d21d7ac",
   "metadata": {},
   "source": [
    "# AI Generated Privacy\n",
    "This project is meant to investigate the ability of LLMs to extract data privacy practices from mobile app code sources.\n",
    "\n",
    "This purpose of this notebook is to store the analysis of the project for review and reproducibility."
   ]
  },
  {
   "cell_type": "markdown",
   "id": "b878171d",
   "metadata": {},
   "source": [
    "### Import Libraries for Analysis"
   ]
  },
  {
   "cell_type": "code",
   "execution_count": 142,
   "id": "22a7a927",
   "metadata": {},
   "outputs": [],
   "source": [
    "import json\n",
    "import numpy as np\n",
    "from sklearn.metrics import precision_score, recall_score, f1_score"
   ]
  },
  {
   "cell_type": "markdown",
   "id": "9a49505d",
   "metadata": {},
   "source": [
    "### Import Data"
   ]
  },
  {
   "cell_type": "code",
   "execution_count": 120,
   "id": "71c29775",
   "metadata": {},
   "outputs": [],
   "source": [
    "# Import list of all possible data privacy practices\n",
    "with open('dpp_options.json', 'r') as file:\n",
    "    dpps = json.load(file)\n",
    "    \n",
    "# Import both human and ai generated data privacy practice datasets\n",
    "with open('dpp_human_gen.json', 'r') as file_human, open('dpp_ai_gen.json', 'r') as file_ai:\n",
    "    apps_dpp_human = json.load(file_human)\n",
    "    apps_dpp_ai = json.load(file_ai)\n"
   ]
  },
  {
   "cell_type": "code",
   "execution_count": 121,
   "id": "1017ad3c",
   "metadata": {},
   "outputs": [
    {
     "data": {
      "text/plain": [
       "22"
      ]
     },
     "execution_count": 121,
     "metadata": {},
     "output_type": "execute_result"
    }
   ],
   "source": [
    "len(apps_dpp_ai)"
   ]
  },
  {
   "cell_type": "markdown",
   "id": "2b1722a4",
   "metadata": {},
   "source": [
    "### Check"
   ]
  },
  {
   "cell_type": "code",
   "execution_count": 131,
   "id": "898ccab1",
   "metadata": {},
   "outputs": [
    {
     "name": "stdout",
     "output_type": "stream",
     "text": [
      "The app org.videolan.vlc has an element not in dpps:\n",
      "The app org.courville.nova has an element not in dpps:\n",
      "The app org.kde.kdeconnect_tp has an element not in dpps:\n",
      "The app ch.deletescape.lawnchair.plah has an element not in dpps:\n",
      "The app rasel.lunar.launcher has an element not in dpps:\n",
      "The app it.feio.android.omninotes has an element not in dpps:\n",
      "The app com.ivy.wallet has an element not in dpps:\n",
      "set()\n",
      "set()\n"
     ]
    }
   ],
   "source": [
    "for app in apps_dpp_human:\n",
    "    diff = set(apps_dpp_human[app]).difference(dpps)\n",
    "    if(len(diff) != 0):\n",
    "       print(f\"The app {app} has an element not in dpps:\")\n",
    "    \n",
    "for app in apps_dpp_ai:\n",
    "    diff = set(apps_dpp_ai[app]).difference(dpps)\n",
    "    if(len(diff) != 0):\n",
    "       print(f\"The app {app} has an element not in dpps: {diff}\")\n"
   ]
  },
  {
   "cell_type": "markdown",
   "id": "282639fc",
   "metadata": {},
   "source": [
    "## Calculate Precision and Recall"
   ]
  },
  {
   "cell_type": "code",
   "execution_count": 145,
   "id": "bff7d3f7",
   "metadata": {},
   "outputs": [],
   "source": [
    "precis = []\n",
    "recall = []\n",
    "f1_scr = []\n",
    "# Go through each app\n",
    "for app in apps_dpp_ai:\n",
    "    dpp_true = []\n",
    "    dpp_pred = []\n",
    "    # Go through each dpp\n",
    "    for dpp in dpps:\n",
    "        # 1 if the dpp is truly used in the app, 0 if not\n",
    "        dpp_true.append(dpp in apps_dpp_human[app])\n",
    "        # 1 if the ai predicted the app used the dpp, 0 if not\n",
    "        dpp_pred.append(dpp in apps_dpp_ai[app])\n",
    "        \n",
    "    \n",
    "    # Get the precision and recall scores for the ai with this app\n",
    "    precis.append(precision_score(dpp_true, dpp_pred, average='binary'))\n",
    "    recall.append(recall_score(dpp_true, dpp_pred, average='binary'))\n",
    "    f1_scr.append(f1_score(dpp_true, dpp_pred, average='binary'))"
   ]
  },
  {
   "cell_type": "markdown",
   "id": "5b92d83f",
   "metadata": {},
   "source": [
    "## Graph Results"
   ]
  },
  {
   "cell_type": "code",
   "execution_count": 146,
   "id": "12d3e2fe",
   "metadata": {
    "scrolled": false
   },
   "outputs": [
    {
     "data": {
      "image/png": "[encoded data removed]",
      "text/plain": [
       "<Figure size 1000x700 with 1 Axes>"
      ]
     },
     "metadata": {},
     "output_type": "display_data"
    }
   ],
   "source": [
    "# Import libraries\n",
    "import matplotlib.pyplot as plt\n",
    "\n",
    "fig = plt.figure(figsize =(10, 7))\n",
    "\n",
    "# Creating plot\n",
    "plt.boxplot([precis, recall, f1_scr], labels=['Precision', 'Recall', \"F1 Score\"])\n",
    " \n",
    "# show plot\n",
    "plt.show()"
   ]
  },
  {
   "cell_type": "code",
   "execution_count": null,
   "id": "6a430728",
   "metadata": {},
   "outputs": [],
   "source": []
  }
 ],
 "metadata": {
  "kernelspec": {
   "display_name": "Python 3 (ipykernel)",
   "language": "python",
   "name": "python3"
  },
  "language_info": {
   "codemirror_mode": {
    "name": "ipython",
    "version": 3
   },
   "file_extension": ".py",
   "mimetype": "text/x-python",
   "name": "python",
   "nbconvert_exporter": "python",
   "pygments_lexer": "ipython3",
   "version": "3.10.9"
  }
 },
 "nbformat": 4,
 "nbformat_minor": 5
}
