{
 "cells": [
  {
   "cell_type": "markdown",
   "id": "0d83cf20",
   "metadata": {},
   "source": [
    "# AI Generated Privacy\n",
    "This project is meant to investigate the ability of LLMs to extract data privacy practices from mobile app code sources.\n",
    "\n",
    "This purpose of this notebook is to store the analysis of the project for review and reproducibility."
   ]
  },
  {
   "cell_type": "markdown",
   "id": "ad4af853",
   "metadata": {},
   "source": [
    "### Import Libraries for Analysis"
   ]
  },
  {
   "cell_type": "code",
   "execution_count": 160,
   "id": "58e4e4f2",
   "metadata": {},
   "outputs": [],
   "source": [
    "import json\n",
    "import numpy as np\n",
    "from sklearn.metrics import precision_score, recall_score, f1_score, confusion_matrix"
   ]
  },
  {
   "cell_type": "markdown",
   "id": "4a8473f5",
   "metadata": {},
   "source": [
    "### Import Data"
   ]
  },
  {
   "cell_type": "code",
   "execution_count": 120,
   "id": "39e2ccad",
   "metadata": {},
   "outputs": [],
   "source": [
    "# Import list of all possible data privacy practices\n",
    "with open('dpp_options.json', 'r') as file:\n",
    "    dpps = json.load(file)\n",
    "    \n",
    "# Import both human and ai generated data privacy practice datasets\n",
    "with open('dpp_human_gen.json', 'r') as file_human, open('dpp_ai_gen.json', 'r') as file_ai:\n",
    "    apps_dpp_human = json.load(file_human)\n",
    "    apps_dpp_ai = json.load(file_ai)\n"
   ]
  },
  {
   "cell_type": "code",
   "execution_count": 121,
   "id": "302f1097",
   "metadata": {},
   "outputs": [
    {
     "data": {
      "text/plain": [
       "22"
      ]
     },
     "execution_count": 121,
     "metadata": {},
     "output_type": "execute_result"
    }
   ],
   "source": [
    "len(apps_dpp_ai)"
   ]
  },
  {
   "cell_type": "markdown",
   "id": "af9cba57",
   "metadata": {},
   "source": [
    "### Check"
   ]
  },
  {
   "cell_type": "code",
   "execution_count": 131,
   "id": "60544d8e",
   "metadata": {},
   "outputs": [
    {
     "name": "stdout",
     "output_type": "stream",
     "text": [
      "The app org.videolan.vlc has an element not in dpps:\n",
      "The app org.courville.nova has an element not in dpps:\n",
      "The app org.kde.kdeconnect_tp has an element not in dpps:\n",
      "The app ch.deletescape.lawnchair.plah has an element not in dpps:\n",
      "The app rasel.lunar.launcher has an element not in dpps:\n",
      "The app it.feio.android.omninotes has an element not in dpps:\n",
      "The app com.ivy.wallet has an element not in dpps:\n",
      "set()\n",
      "set()\n"
     ]
    }
   ],
   "source": [
    "for app in apps_dpp_human:\n",
    "    diff = set(apps_dpp_human[app]).difference(dpps)\n",
    "    if(len(diff) != 0):\n",
    "       print(f\"The app {app} has an element not in dpps:\")\n",
    "    \n",
    "for app in apps_dpp_ai:\n",
    "    diff = set(apps_dpp_ai[app]).difference(dpps)\n",
    "    if(len(diff) != 0):\n",
    "       print(f\"The app {app} has an element not in dpps: {diff}\")\n"
   ]
  },
  {
   "cell_type": "markdown",
   "id": "ccd38a96",
   "metadata": {},
   "source": [
    "## Calculate Precision and Recall"
   ]
  },
  {
   "cell_type": "code",
   "execution_count": 200,
   "id": "b7c9c5d5",
   "metadata": {},
   "outputs": [
    {
     "name": "stdout",
     "output_type": "stream",
     "text": [
      "Precision Score: 0.3897958959279714\n",
      "Recall Score: 0.49562358139944346\n",
      "F1 Score: 0.40193583829664264\n",
      "Precision Score Overall: 0.366412213740458\n",
      "Recall Score Overall: 0.5274725274725275\n",
      "F1 Score Overall: 0.4324324324324324\n"
     ]
    }
   ],
   "source": [
    "precis = []\n",
    "recall = []\n",
    "f1_scr = []\n",
    "dpp_true_all = []\n",
    "dpp_pred_all = []\n",
    "# Go through each app\n",
    "for app in apps_dpp_ai:\n",
    "    dpp_true = []\n",
    "    dpp_pred = []\n",
    "    # Go through each dpp\n",
    "    for dpp in dpps:\n",
    "        # 1 if the dpp is truly used in the app, 0 if not\n",
    "        dpp_true.append(dpp in apps_dpp_human[app])\n",
    "        # 1 if the ai predicted the app used the dpp, 0 if not\n",
    "        dpp_pred.append(dpp in apps_dpp_ai[app])\n",
    "        \n",
    "    \n",
    "    # Get the precision and recall scores for the ai with this app\n",
    "    precis.append(precision_score(dpp_true, dpp_pred, average='binary'))\n",
    "    recall.append(recall_score(dpp_true, dpp_pred, average='binary'))\n",
    "    f1_scr.append(f1_score(dpp_true, dpp_pred, average='binary'))\n",
    "    dpp_true_all.extend(dpp_true)\n",
    "    dpp_pred_all.extend(dpp_pred)\n",
    "\n",
    "print(f\"Precision Score: {np.mean(precis)}\")\n",
    "print(f\"Recall Score: {np.mean(recall)}\")\n",
    "print(f\"F1 Score: {np.mean(f1_scr)}\")\n",
    "print(f\"Precision Score Overall: {precision_score(dpp_true_all, dpp_pred_all)}\")\n",
    "print(f\"Recall Score Overall: {recall_score(dpp_true_all, dpp_pred_all)}\")\n",
    "print(f\"F1 Score Overall: {f1_score(dpp_true_all, dpp_pred_all)}\")"
   ]
  },
  {
   "cell_type": "code",
   "execution_count": 201,
   "id": "f5cc106c",
   "metadata": {},
   "outputs": [
    {
     "name": "stdout",
     "output_type": "stream",
     "text": [
      "[[862  86]\n",
      " [166  96]]\n"
     ]
    }
   ],
   "source": [
    "# Confusion Matrix\n",
    "con_matrix = confusion_matrix(dpp_true_all, dpp_pred_all).transpose()\n",
    "print(con_matrix)"
   ]
  },
  {
   "cell_type": "code",
   "execution_count": 155,
   "id": "daa47afd",
   "metadata": {},
   "outputs": [
    {
     "name": "stdout",
     "output_type": "stream",
     "text": [
      "2.4694097406556335\n",
      "22\n"
     ]
    }
   ],
   "source": [
    "from scipy.stats import t\n",
    "\n",
    "# Calculate CI for each score\n",
    "precis = np.array(precis)\n",
    "precis_moe = t.ppf(.975, len(precis) - 1, loc=np.mean(precis))\n",
    "\n",
    "print(precis_moe)\n",
    "print(len(precis))"
   ]
  },
  {
   "cell_type": "markdown",
   "id": "ba09ba1b",
   "metadata": {},
   "source": [
    "## Graph Results"
   ]
  },
  {
   "cell_type": "code",
   "execution_count": 148,
   "id": "51cb26ff",
   "metadata": {
    "scrolled": false
   },
   "outputs": [
    {
     "data": {
      "image/png": "[encoded data removed]",
      "text/plain": [
       "<Figure size 1000x400 with 1 Axes>"
      ]
     },
     "metadata": {},
     "output_type": "display_data"
    }
   ],
   "source": [
    "# Import libraries\n",
    "import matplotlib.pyplot as plt\n",
    "\n",
    "fig = plt.figure(figsize =(10, 4))\n",
    "\n",
    "# Creating plot\n",
    "plt.boxplot([precis, recall, f1_scr], labels=['Precision', 'Recall', \"F1 Score\"])\n",
    " \n",
    "# show plot\n",
    "plt.show()"
   ]
  },
  {
   "cell_type": "code",
   "execution_count": 202,
   "id": "4dd548e5",
   "metadata": {
    "scrolled": false
   },
   "outputs": [
    {
     "data": {
      "text/plain": [
       "[Text(0.5, 23.52222222222222, 'True Value'),\n",
       " Text(50.72222222222221, 0.5, 'Predicted Value')]"
      ]
     },
     "execution_count": 202,
     "metadata": {},
     "output_type": "execute_result"
    },
    {
     "data": {
      "image/png": "[encoded data removed]",
      "text/plain": [
       "<Figure size 640x480 with 2 Axes>"
      ]
     },
     "metadata": {},
     "output_type": "display_data"
    }
   ],
   "source": [
    "# Graph Confusion Matrix\n",
    "import seaborn as sn\n",
    "\n",
    "df_cm = pd.DataFrame(con_matrix, index = [\"DPP Does Not Exists\", \"DPP Exists\"],\n",
    "                  columns = [\"DPP Does Not Exists\", \"DPP Exists\"])\n",
    "\n",
    "ax = sn.heatmap(df_cm, annot=True, fmt='d', annot_kws={\"fontsize\":20})\n",
    "\n",
    "\n",
    "ax.tick_params(axis='both', which='major', labelsize=10, labelbottom = False, bottom=False, top = True, labeltop=True)\n",
    "ax.set(xlabel=\"True Value\", ylabel=\"Predicted Value\")\n"
   ]
  }
 ],
 "metadata": {
  "kernelspec": {
   "display_name": "Python 3 (ipykernel)",
   "language": "python",
   "name": "python3"
  },
  "language_info": {
   "codemirror_mode": {
    "name": "ipython",
    "version": 3
   },
   "file_extension": ".py",
   "mimetype": "text/x-python",
   "name": "python",
   "nbconvert_exporter": "python",
   "pygments_lexer": "ipython3",
   "version": "3.10.9"
  }
 },
 "nbformat": 4,
 "nbformat_minor": 5
}
