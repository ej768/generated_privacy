{
 "cells": [
  {
   "cell_type": "markdown",
   "id": "0d83cf20",
   "metadata": {},
   "source": [
    "# AI Generated Privacy\n",
    "This project is meant to investigate the ability of LLMs to extract data privacy practices from mobile app code sources.\n",
    "\n",
    "This purpose of this notebook is to store the analysis of the project for review and reproducibility."
   ]
  },
  {
   "cell_type": "markdown",
   "id": "ad4af853",
   "metadata": {},
   "source": [
    "### Import Libraries for Analysis"
   ]
  },
  {
   "cell_type": "code",
   "execution_count": 1,
   "id": "58e4e4f2",
   "metadata": {},
   "outputs": [],
   "source": [
    "import json\n",
    "import pandas as pd\n",
    "import numpy as np\n",
    "from sklearn.metrics import precision_score, recall_score, f1_score, confusion_matrix"
   ]
  },
  {
   "cell_type": "markdown",
   "id": "4a8473f5",
   "metadata": {},
   "source": [
    "### Import Data"
   ]
  },
  {
   "cell_type": "code",
   "execution_count": 2,
   "id": "39e2ccad",
   "metadata": {},
   "outputs": [],
   "source": [
    "# Import list of all possible data privacy practices\n",
    "with open('dpps.csv', 'r') as file:\n",
    "    dpps_categories = pd.read_csv(file)\n",
    "    dpps = dpps_categories[\"Permission\"].to_list()\n",
    "    \n",
    "# Import both human and ai generated data privacy practice datasets\n",
    "with open('dpp_human_gen.json', 'r') as file_human, open('dpp_ai_gen.json', 'r') as file_ai:\n",
    "    apps_dpp_human = json.load(file_human)\n",
    "    apps_dpp_ai = json.load(file_ai)\n"
   ]
  },
  {
   "cell_type": "code",
   "execution_count": 3,
   "id": "302f1097",
   "metadata": {
    "scrolled": false
   },
   "outputs": [
    {
     "name": "stdout",
     "output_type": "stream",
     "text": [
      "<class 'list'>\n"
     ]
    }
   ],
   "source": [
    "len(apps_dpp_ai)\n",
    "print(type(dpps))"
   ]
  },
  {
   "cell_type": "markdown",
   "id": "af9cba57",
   "metadata": {},
   "source": [
    "### Check"
   ]
  },
  {
   "cell_type": "code",
   "execution_count": 4,
   "id": "60544d8e",
   "metadata": {},
   "outputs": [],
   "source": [
    "for app in apps_dpp_human:\n",
    "    diff = set(apps_dpp_human[app]).difference(dpps)\n",
    "    if(len(diff) != 0):\n",
    "       print(f\"The app {app} has an element not in dpps: {diff}\")\n",
    "    \n",
    "for app in apps_dpp_ai:\n",
    "    diff = set(apps_dpp_ai[app]).difference(dpps)\n",
    "    if(len(diff) != 0):\n",
    "       print(f\"The app {app} has an element not in dpps: {diff}\")\n"
   ]
  },
  {
   "cell_type": "markdown",
   "id": "ccd38a96",
   "metadata": {},
   "source": [
    "## Calculate Precision and Recall"
   ]
  },
  {
   "cell_type": "code",
   "execution_count": 5,
   "id": "b7c9c5d5",
   "metadata": {},
   "outputs": [
    {
     "name": "stdout",
     "output_type": "stream",
     "text": [
      "Precision Score: 0.37304354586540867\n",
      "Recall Score: 0.35678225541228636\n",
      "F1 Score: 0.30917027729262864\n",
      "Precision Score Overall: 0.3363431151241535\n",
      "Recall Score Overall: 0.36609336609336607\n",
      "F1 Score Overall: 0.3505882352941176\n"
     ]
    },
    {
     "name": "stderr",
     "output_type": "stream",
     "text": [
      "/home/peanutbear/anaconda3/lib/python3.10/site-packages/sklearn/metrics/_classification.py:1344: UndefinedMetricWarning: Recall is ill-defined and being set to 0.0 due to no true samples. Use `zero_division` parameter to control this behavior.\n",
      "  _warn_prf(average, modifier, msg_start, len(result))\n"
     ]
    }
   ],
   "source": [
    "precis = []\n",
    "recall = []\n",
    "f1_scr = []\n",
    "dpp_true_all = []\n",
    "dpp_pred_all = []\n",
    "# Go through each app\n",
    "for app in apps_dpp_ai:\n",
    "    dpp_true = []\n",
    "    dpp_pred = []\n",
    "    # Go through each dpp\n",
    "    for dpp in dpps:\n",
    "        # 1 if the dpp is truly used in the app, 0 if not\n",
    "        dpp_true.append(dpp in apps_dpp_human[app])\n",
    "        # 1 if the ai predicted the app used the dpp, 0 if not\n",
    "        dpp_pred.append(dpp in apps_dpp_ai[app])\n",
    "        \n",
    "    \n",
    "    # Get the precision and recall scores for the ai with this app\n",
    "    precis.append(precision_score(dpp_true, dpp_pred, average='binary'))\n",
    "    recall.append(recall_score(dpp_true, dpp_pred, average='binary'))\n",
    "    f1_scr.append(f1_score(dpp_true, dpp_pred, average='binary'))\n",
    "    dpp_true_all.extend(dpp_true)\n",
    "    dpp_pred_all.extend(dpp_pred)\n",
    "\n",
    "print(f\"Precision Score: {np.mean(precis)}\")\n",
    "print(f\"Recall Score: {np.mean(recall)}\")\n",
    "print(f\"F1 Score: {np.mean(f1_scr)}\")\n",
    "print(f\"Precision Score Overall: {precision_score(dpp_true_all, dpp_pred_all)}\")\n",
    "print(f\"Recall Score Overall: {recall_score(dpp_true_all, dpp_pred_all)}\")\n",
    "print(f\"F1 Score Overall: {f1_score(dpp_true_all, dpp_pred_all)}\")"
   ]
  },
  {
   "cell_type": "code",
   "execution_count": 6,
   "id": "f5cc106c",
   "metadata": {},
   "outputs": [
    {
     "name": "stdout",
     "output_type": "stream",
     "text": [
      "[[2605  258]\n",
      " [ 294  149]]\n"
     ]
    }
   ],
   "source": [
    "# Confusion Matrix\n",
    "con_matrix = confusion_matrix(dpp_true_all, dpp_pred_all).transpose()\n",
    "print(con_matrix)"
   ]
  },
  {
   "cell_type": "code",
   "execution_count": 7,
   "id": "daa47afd",
   "metadata": {},
   "outputs": [
    {
     "name": "stdout",
     "output_type": "stream",
     "text": [
      "2.399236008894518\n",
      "38\n"
     ]
    }
   ],
   "source": [
    "from scipy.stats import t\n",
    "\n",
    "# Calculate CI for each score\n",
    "precis = np.array(precis)\n",
    "precis_moe = t.ppf(.975, len(precis) - 1, loc=np.mean(precis))\n",
    "\n",
    "print(precis_moe)\n",
    "print(len(precis))"
   ]
  },
  {
   "cell_type": "markdown",
   "id": "51919e37",
   "metadata": {},
   "source": [
    "# Research Question 1\n",
    "How accurately and completely can an LLM extract data practices directly from source code?"
   ]
  },
  {
   "cell_type": "markdown",
   "id": "ba09ba1b",
   "metadata": {},
   "source": [
    "## Graph Results"
   ]
  },
  {
   "cell_type": "code",
   "execution_count": 8,
   "id": "51cb26ff",
   "metadata": {
    "scrolled": false
   },
   "outputs": [
    {
     "data": {
      "image/png": "[encoded data removed]",
      "text/plain": [
       "<Figure size 1000x400 with 1 Axes>"
      ]
     },
     "metadata": {},
     "output_type": "display_data"
    }
   ],
   "source": [
    "# Import libraries\n",
    "import matplotlib.pyplot as plt\n",
    "\n",
    "fig = plt.figure(figsize =(10, 4))\n",
    "\n",
    "# Creating plot\n",
    "plt.boxplot([precis, recall, f1_scr], labels=['Precision', 'Recall', \"F1 Score\"])\n",
    " \n",
    "# show plot\n",
    "plt.show()"
   ]
  },
  {
   "cell_type": "code",
   "execution_count": 10,
   "id": "af5eddec",
   "metadata": {},
   "outputs": [
    {
     "name": "stdout",
     "output_type": "stream",
     "text": [
      "0.24404761904761904\n"
     ]
    }
   ],
   "source": [
    "print(np.median(recall))"
   ]
  },
  {
   "cell_type": "code",
   "execution_count": 11,
   "id": "4dd548e5",
   "metadata": {
    "scrolled": false
   },
   "outputs": [
    {
     "data": {
      "text/plain": [
       "[Text(0.5, 23.52222222222222, 'True Value'),\n",
       " Text(50.72222222222221, 0.5, 'Predicted Value')]"
      ]
     },
     "execution_count": 11,
     "metadata": {},
     "output_type": "execute_result"
    },
    {
     "data": {
      "image/png": "[encoded data removed]",
      "text/plain": [
       "<Figure size 640x480 with 2 Axes>"
      ]
     },
     "metadata": {},
     "output_type": "display_data"
    }
   ],
   "source": [
    "# Graph Confusion Matrix\n",
    "import seaborn as sn\n",
    "\n",
    "df_cm = pd.DataFrame(con_matrix, index = [\"DPP Does Not Exists\", \"DPP Exists\"],\n",
    "                  columns = [\"DPP Does Not Exists\", \"DPP Exists\"])\n",
    "\n",
    "ax = sn.heatmap(df_cm, annot=True, fmt='d', annot_kws={\"fontsize\":20})\n",
    "\n",
    "\n",
    "ax.tick_params(axis='both', which='major', labelsize=10, labelbottom = False, bottom=False, top = True, labeltop=True)\n",
    "ax.set(xlabel=\"True Value\", ylabel=\"Predicted Value\")\n"
   ]
  },
  {
   "cell_type": "markdown",
   "id": "7388bac8",
   "metadata": {},
   "source": [
    "# Research Question 2\n",
    "Do the types of data practices used within an app have an differing effects on the effectiveness of an LLM to extract data practices?"
   ]
  },
  {
   "cell_type": "code",
   "execution_count": 11,
   "id": "646e7b4d",
   "metadata": {
    "scrolled": true
   },
   "outputs": [],
   "source": [
    "# Create an empty DataFrame with specified columns\n",
    "results = pd.DataFrame(columns=['Category', \"App\", 'F1Score'])\n",
    "\n",
    "categories = list(set(dpps_categories[\"Category\"]))"
   ]
  },
  {
   "cell_type": "code",
   "execution_count": 15,
   "id": "ca9271ae",
   "metadata": {
    "scrolled": true
   },
   "outputs": [
    {
     "name": "stdout",
     "output_type": "stream",
     "text": [
      "     Category                                App   F1Score\n",
      "0       Other                  com.standardnotes  0.750000\n",
      "1       Other          com.automattic.simplenote  0.421053\n",
      "2       Other                  de.ph1b.audiobook  0.000000\n",
      "3       Other       de.reimardoeffinger.quickdic  0.666667\n",
      "4       Other                      org.xbmc.kodi  0.500000\n",
      "..        ...                                ...       ...\n",
      "160  Contacts         org.thoughtcrime.securesms  0.500000\n",
      "161  Contacts               com.nextcloud.client  0.500000\n",
      "162  Contacts            com.mapswithme.maps.pro  1.000000\n",
      "163  Contacts                     com.moez.QKSMS  0.666667\n",
      "164  Contacts  com.menny.android.anysoftkeyboard  0.666667\n",
      "\n",
      "[165 rows x 3 columns]\n"
     ]
    }
   ],
   "source": [
    "f1_scr_category = []\n",
    "dpp_true_all = []\n",
    "dpp_pred_all = []\n",
    "# Go through each Data Privacy Category\n",
    "for category in categories:\n",
    "    # Focus the Permissions to just those of the Category\n",
    "    dpps = list(dpps_categories[\"Permission\"][dpps_categories[\"Category\"] == category])\n",
    "    \n",
    "    # Go through each app\n",
    "    for app in apps_dpp_ai:\n",
    "        dpp_true = []\n",
    "        dpp_pred = []\n",
    "        \n",
    "        # Go through each dpp\n",
    "        for dpp in dpps:\n",
    "            # 1 if the dpp is truly used in the app, 0 if not\n",
    "            dpp_true.append(dpp in apps_dpp_human[app])\n",
    "            # 1 if the ai predicted the app used the dpp, 0 if not\n",
    "            dpp_pred.append(dpp in apps_dpp_ai[app])\n",
    "\n",
    "        # Only get a score if there was at least one \n",
    "        #     permission for the category in the app\n",
    "        if sum(dpp_true):\n",
    "            f1 = f1_score(dpp_true, dpp_pred, average='binary')\n",
    "            # Add the f1 score to the table\n",
    "            row = pd.DataFrame([{\"Category\": category, \"App\": app, \"F1Score\": f1}])\n",
    "            results = pd.concat([results, row], ignore_index=True)\n",
    "\n",
    "print(results)"
   ]
  },
  {
   "cell_type": "markdown",
   "id": "2e1910f2",
   "metadata": {},
   "source": [
    "# Graph Results\n",
    "Estimate of average of F1 scores with error bars"
   ]
  },
  {
   "cell_type": "code",
   "execution_count": 23,
   "id": "408abdfa",
   "metadata": {},
   "outputs": [],
   "source": [
    "# Massage Data\n",
    "plot_list = []\n",
    "for category in set(list(results[\"Category\"])):\n",
    "    l = list(results['F1Score'][results[\"Category\"] == category])\n",
    "    plot_list.append(np.mean(l))"
   ]
  }
 ],
 "metadata": {
  "kernelspec": {
   "display_name": "Python 3 (ipykernel)",
   "language": "python",
   "name": "python3"
  },
  "language_info": {
   "codemirror_mode": {
    "name": "ipython",
    "version": 3
   },
   "file_extension": ".py",
   "mimetype": "text/x-python",
   "name": "python",
   "nbconvert_exporter": "python",
   "pygments_lexer": "ipython3",
   "version": "3.10.9"
  }
 },
 "nbformat": 4,
 "nbformat_minor": 5
}
